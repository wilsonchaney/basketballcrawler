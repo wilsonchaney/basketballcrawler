{
 "cells": [
  {
   "cell_type": "code",
   "execution_count": 1,
   "metadata": {},
   "outputs": [],
   "source": [
    "%matplotlib inline\n",
    "import basketballcrawler as bc\n",
    "import matplotlib.pyplot as plt"
   ]
  },
  {
   "cell_type": "markdown",
   "metadata": {},
   "source": [
    "Loading in the player dictionary from JSON is straightforward:"
   ]
  },
  {
   "cell_type": "code",
   "execution_count": 2,
   "metadata": {},
   "outputs": [],
   "source": [
    "players = bc.load_player_dictionary(\"players.json\")"
   ]
  },
  {
   "cell_type": "markdown",
   "metadata": {},
   "source": [
    "Player positions, height, and weight, are already stored in the player objects. We could make a scatter plot by position:"
   ]
  },
  {
   "cell_type": "code",
   "execution_count": 3,
   "metadata": {},
   "outputs": [
    {
     "data": {
      "text/plain": [
       "<matplotlib.legend.Legend at 0x7fa7f9c34c50>"
      ]
     },
     "execution_count": 3,
     "metadata": {},
     "output_type": "execute_result"
    },
    {
     "data": {
      "image/png": "[encoded data removed]",
      "text/plain": [
       "<matplotlib.figure.Figure at 0x7fa7f7e390d0>"
      ]
     },
     "metadata": {},
     "output_type": "display_data"
    }
   ],
   "source": [
    "point_guards =  [players[name] for name in players if \"Point Guard\" in players[name].positions]\n",
    "centers = [players[name] for name in players if \"Center\" in players[name].positions]\n",
    "\n",
    "pg_weights = [int(p.weight) for p in point_guards]\n",
    "c_weights = [int(p.weight) for p in centers]\n",
    "\n",
    "# getting the heights requires parsing of strings, e.g. \"6-3\" -> 75 (inches)\n",
    "def parse_height_value(height_string):\n",
    "    ft,inches = [int(val) for val in height_string.split('-')]\n",
    "    return ft*12 + inches\n",
    "\n",
    "pg_heights = [parse_height_value(p.height) for p in point_guards]\n",
    "c_heights = [parse_height_value(p.height) for p in centers]  \n",
    "\n",
    "plt.scatter(pg_weights,pg_heights,c=\"red\",label=\"PG\")\n",
    "plt.scatter(c_weights,c_heights,c=\"blue\",label=\"C\")\n",
    "plt.xlabel(\"Weight\")\n",
    "plt.ylabel(\"Height\")\n",
    "plt.legend(loc=4)"
   ]
  },
  {
   "cell_type": "markdown",
   "metadata": {},
   "source": [
    "That's a pretty interesting outlier. Let's see who it is:"
   ]
  },
  {
   "cell_type": "code",
   "execution_count": 4,
   "metadata": {},
   "outputs": [
    {
     "name": "stdout",
     "output_type": "stream",
     "text": [
      "[u'Sim Bhullar']\n"
     ]
    }
   ],
   "source": [
    "print [p.name for p in centers if int(p.weight) > 350]"
   ]
  },
  {
   "cell_type": "markdown",
   "metadata": {},
   "source": [
    "We can also delve into game-by-game stats for individual players."
   ]
  },
  {
   "cell_type": "code",
   "execution_count": 5,
   "metadata": {},
   "outputs": [
    {
     "data": {
      "text/html": [
       "<div style=\"max-height:1000px;max-width:1500px;overflow:auto;\">\n",
       "<table border=\"1\" class=\"dataframe\">\n",
       "  <thead>\n",
       "    <tr style=\"text-align: right;\">\n",
       "      <th></th>\n",
       "      <th>Date</th>\n",
       "      <th>+/-</th>\n",
       "      <th>3P</th>\n",
       "      <th>3P%</th>\n",
       "      <th>3PA</th>\n",
       "      <th>AST</th>\n",
       "      <th>Age</th>\n",
       "      <th>BLK</th>\n",
       "      <th>DFS</th>\n",
       "      <th>DRB</th>\n",
       "      <th>...</th>\n",
       "      <th>ORB</th>\n",
       "      <th>Opp</th>\n",
       "      <th>PF</th>\n",
       "      <th>PTS</th>\n",
       "      <th>Rk</th>\n",
       "      <th>STL</th>\n",
       "      <th>TOV</th>\n",
       "      <th>TRB</th>\n",
       "      <th>Tm</th>\n",
       "      <th>WinLoss</th>\n",
       "    </tr>\n",
       "  </thead>\n",
       "  <tbody>\n",
       "    <tr>\n",
       "      <th>0</th>\n",
       "      <td>2015-10-27</td>\n",
       "      <td> -8</td>\n",
       "      <td> 0</td>\n",
       "      <td>  0</td>\n",
       "      <td> 1</td>\n",
       "      <td> 0</td>\n",
       "      <td> 35-113</td>\n",
       "      <td> 6</td>\n",
       "      <td> 18.5</td>\n",
       "      <td> 2</td>\n",
       "      <td>...</td>\n",
       "      <td> 0</td>\n",
       "      <td> CLE</td>\n",
       "      <td> 1</td>\n",
       "      <td>  2</td>\n",
       "      <td> 1</td>\n",
       "      <td> 1</td>\n",
       "      <td> 0</td>\n",
       "      <td>  2</td>\n",
       "      <td> CHI</td>\n",
       "      <td>  W (+2)</td>\n",
       "    </tr>\n",
       "    <tr>\n",
       "      <th>1</th>\n",
       "      <td>2015-10-28</td>\n",
       "      <td> 23</td>\n",
       "      <td> 0</td>\n",
       "      <td>NaN</td>\n",
       "      <td> 0</td>\n",
       "      <td> 3</td>\n",
       "      <td> 35-114</td>\n",
       "      <td> 1</td>\n",
       "      <td> 32.3</td>\n",
       "      <td> 8</td>\n",
       "      <td>...</td>\n",
       "      <td> 1</td>\n",
       "      <td> BRK</td>\n",
       "      <td> 2</td>\n",
       "      <td> 16</td>\n",
       "      <td> 2</td>\n",
       "      <td> 0</td>\n",
       "      <td> 3</td>\n",
       "      <td>  9</td>\n",
       "      <td> CHI</td>\n",
       "      <td> W (+15)</td>\n",
       "    </tr>\n",
       "    <tr>\n",
       "      <th>2</th>\n",
       "      <td>2015-10-30</td>\n",
       "      <td>-16</td>\n",
       "      <td> 0</td>\n",
       "      <td>  0</td>\n",
       "      <td> 1</td>\n",
       "      <td> 3</td>\n",
       "      <td> 35-116</td>\n",
       "      <td> 3</td>\n",
       "      <td> 45.5</td>\n",
       "      <td> 9</td>\n",
       "      <td>...</td>\n",
       "      <td> 3</td>\n",
       "      <td> DET</td>\n",
       "      <td> 4</td>\n",
       "      <td> 16</td>\n",
       "      <td> 3</td>\n",
       "      <td> 2</td>\n",
       "      <td> 3</td>\n",
       "      <td> 12</td>\n",
       "      <td> CHI</td>\n",
       "      <td>  L (-4)</td>\n",
       "    </tr>\n",
       "    <tr>\n",
       "      <th>3</th>\n",
       "      <td>2015-11-01</td>\n",
       "      <td>  8</td>\n",
       "      <td> 0</td>\n",
       "      <td>  0</td>\n",
       "      <td> 2</td>\n",
       "      <td> 1</td>\n",
       "      <td> 35-118</td>\n",
       "      <td> 1</td>\n",
       "      <td> 31.0</td>\n",
       "      <td> 5</td>\n",
       "      <td>...</td>\n",
       "      <td> 3</td>\n",
       "      <td> ORL</td>\n",
       "      <td> 1</td>\n",
       "      <td> 16</td>\n",
       "      <td> 4</td>\n",
       "      <td> 1</td>\n",
       "      <td> 1</td>\n",
       "      <td>  8</td>\n",
       "      <td> CHI</td>\n",
       "      <td>  W (+5)</td>\n",
       "    </tr>\n",
       "    <tr>\n",
       "      <th>4</th>\n",
       "      <td>2015-11-03</td>\n",
       "      <td> -6</td>\n",
       "      <td> 0</td>\n",
       "      <td>  0</td>\n",
       "      <td> 1</td>\n",
       "      <td> 3</td>\n",
       "      <td> 35-120</td>\n",
       "      <td> 0</td>\n",
       "      <td> 27.5</td>\n",
       "      <td> 7</td>\n",
       "      <td>...</td>\n",
       "      <td> 1</td>\n",
       "      <td> CHO</td>\n",
       "      <td> 0</td>\n",
       "      <td> 13</td>\n",
       "      <td> 5</td>\n",
       "      <td> 0</td>\n",
       "      <td> 0</td>\n",
       "      <td>  8</td>\n",
       "      <td> CHI</td>\n",
       "      <td> L (-25)</td>\n",
       "    </tr>\n",
       "  </tbody>\n",
       "</table>\n",
       "<p>5 rows × 31 columns</p>\n",
       "</div>"
      ],
      "text/plain": []
     },
     "metadata": {},
     "output_type": "execute_result"
    }
   ],
   "source": [
    "pau_games = bc.game_logs(players, u'Pau Gasol')\n",
    "pau_games.reset_index().head()"
   ]
  },
  {
   "cell_type": "markdown",
   "metadata": {},
   "source": [
    "Now we could observe some individual stats for a player, **using the same API calls as before this PR**."
   ]
  },
  {
   "cell_type": "code",
   "execution_count": 6,
   "metadata": {},
   "outputs": [
    {
     "data": {
      "text/html": [
       "<div style=\"max-height:1000px;max-width:1500px;overflow:auto;\">\n",
       "<table border=\"1\" class=\"dataframe\">\n",
       "  <thead>\n",
       "    <tr style=\"text-align: right;\">\n",
       "      <th></th>\n",
       "      <th>+/-</th>\n",
       "      <th>3P</th>\n",
       "      <th>3P%</th>\n",
       "      <th>3PA</th>\n",
       "      <th>AST</th>\n",
       "      <th>Age</th>\n",
       "      <th>BLK</th>\n",
       "      <th>DFS</th>\n",
       "      <th>DRB</th>\n",
       "      <th>FG</th>\n",
       "      <th>...</th>\n",
       "      <th>ORB</th>\n",
       "      <th>Opp</th>\n",
       "      <th>PF</th>\n",
       "      <th>PTS</th>\n",
       "      <th>Rk</th>\n",
       "      <th>STL</th>\n",
       "      <th>TOV</th>\n",
       "      <th>TRB</th>\n",
       "      <th>Tm</th>\n",
       "      <th>WinLoss</th>\n",
       "    </tr>\n",
       "    <tr>\n",
       "      <th>Date</th>\n",
       "      <th></th>\n",
       "      <th></th>\n",
       "      <th></th>\n",
       "      <th></th>\n",
       "      <th></th>\n",
       "      <th></th>\n",
       "      <th></th>\n",
       "      <th></th>\n",
       "      <th></th>\n",
       "      <th></th>\n",
       "      <th></th>\n",
       "      <th></th>\n",
       "      <th></th>\n",
       "      <th></th>\n",
       "      <th></th>\n",
       "      <th></th>\n",
       "      <th></th>\n",
       "      <th></th>\n",
       "      <th></th>\n",
       "      <th></th>\n",
       "      <th></th>\n",
       "    </tr>\n",
       "  </thead>\n",
       "  <tbody>\n",
       "    <tr>\n",
       "      <th>2016-01-03</th>\n",
       "      <td> 13</td>\n",
       "      <td> 0</td>\n",
       "      <td>NaN</td>\n",
       "      <td> 0</td>\n",
       "      <td> 6</td>\n",
       "      <td> 35-181</td>\n",
       "      <td> 4</td>\n",
       "      <td> 52.8</td>\n",
       "      <td> 12</td>\n",
       "      <td>  7</td>\n",
       "      <td>...</td>\n",
       "      <td> 1</td>\n",
       "      <td> TOR</td>\n",
       "      <td> 0</td>\n",
       "      <td> 19</td>\n",
       "      <td> 32</td>\n",
       "      <td> 0</td>\n",
       "      <td> 2</td>\n",
       "      <td> 13</td>\n",
       "      <td> CHI</td>\n",
       "      <td>  W (+2)</td>\n",
       "    </tr>\n",
       "    <tr>\n",
       "      <th>2016-01-05</th>\n",
       "      <td> 11</td>\n",
       "      <td> 2</td>\n",
       "      <td>  1</td>\n",
       "      <td> 2</td>\n",
       "      <td> 5</td>\n",
       "      <td> 35-183</td>\n",
       "      <td> 3</td>\n",
       "      <td> 55.8</td>\n",
       "      <td> 10</td>\n",
       "      <td> 10</td>\n",
       "      <td>...</td>\n",
       "      <td> 1</td>\n",
       "      <td> MIL</td>\n",
       "      <td> 3</td>\n",
       "      <td> 26</td>\n",
       "      <td> 33</td>\n",
       "      <td> 1</td>\n",
       "      <td> 4</td>\n",
       "      <td> 11</td>\n",
       "      <td> CHI</td>\n",
       "      <td> W (+11)</td>\n",
       "    </tr>\n",
       "    <tr>\n",
       "      <th>2016-01-07</th>\n",
       "      <td> 14</td>\n",
       "      <td> 0</td>\n",
       "      <td>  0</td>\n",
       "      <td> 1</td>\n",
       "      <td> 4</td>\n",
       "      <td> 35-185</td>\n",
       "      <td> 1</td>\n",
       "      <td> 47.5</td>\n",
       "      <td> 13</td>\n",
       "      <td>  8</td>\n",
       "      <td>...</td>\n",
       "      <td> 5</td>\n",
       "      <td> BOS</td>\n",
       "      <td> 0</td>\n",
       "      <td> 17</td>\n",
       "      <td> 34</td>\n",
       "      <td> 0</td>\n",
       "      <td> 3</td>\n",
       "      <td> 18</td>\n",
       "      <td> CHI</td>\n",
       "      <td>  W (+9)</td>\n",
       "    </tr>\n",
       "    <tr>\n",
       "      <th>2016-01-09</th>\n",
       "      <td> -5</td>\n",
       "      <td> 0</td>\n",
       "      <td>NaN</td>\n",
       "      <td> 0</td>\n",
       "      <td> 5</td>\n",
       "      <td> 35-187</td>\n",
       "      <td> 1</td>\n",
       "      <td> 26.3</td>\n",
       "      <td>  6</td>\n",
       "      <td>  4</td>\n",
       "      <td>...</td>\n",
       "      <td> 1</td>\n",
       "      <td> ATL</td>\n",
       "      <td> 0</td>\n",
       "      <td> 10</td>\n",
       "      <td> 35</td>\n",
       "      <td> 0</td>\n",
       "      <td> 4</td>\n",
       "      <td>  7</td>\n",
       "      <td> CHI</td>\n",
       "      <td> L (-15)</td>\n",
       "    </tr>\n",
       "    <tr>\n",
       "      <th>2016-01-11</th>\n",
       "      <td>-10</td>\n",
       "      <td> 0</td>\n",
       "      <td>NaN</td>\n",
       "      <td> 0</td>\n",
       "      <td> 1</td>\n",
       "      <td> 35-189</td>\n",
       "      <td> 1</td>\n",
       "      <td> 31.5</td>\n",
       "      <td>  9</td>\n",
       "      <td>  6</td>\n",
       "      <td>...</td>\n",
       "      <td> 1</td>\n",
       "      <td> WAS</td>\n",
       "      <td> 0</td>\n",
       "      <td> 15</td>\n",
       "      <td> 36</td>\n",
       "      <td> 0</td>\n",
       "      <td> 2</td>\n",
       "      <td> 10</td>\n",
       "      <td> CHI</td>\n",
       "      <td> L (-14)</td>\n",
       "    </tr>\n",
       "  </tbody>\n",
       "</table>\n",
       "<p>5 rows × 30 columns</p>\n",
       "</div>"
      ],
      "text/plain": []
     },
     "metadata": {},
     "output_type": "execute_result"
    }
   ],
   "source": [
    "recent_games = pau_games.loc[pau_games.index > '2016-01-01']\n",
    "recent_games.head()"
   ]
  },
  {
   "cell_type": "code",
   "execution_count": 7,
   "metadata": {},
   "outputs": [
    {
     "data": {
      "text/plain": [
       "[<matplotlib.lines.Line2D at 0x7fa7f93dc310>]"
      ]
     },
     "execution_count": 7,
     "metadata": {},
     "output_type": "execute_result"
    },
    {
     "data": {
      "image/png": "[encoded data removed]",
      "text/plain": [
       "<matplotlib.figure.Figure at 0x7fa7f93dc590>"
      ]
     },
     "metadata": {},
     "output_type": "display_data"
    }
   ],
   "source": [
    "plt.plot(recent_games.TRB,'-o')\n",
    "plt.plot(recent_games.PF,'-o')"
   ]
  },
  {
   "cell_type": "markdown",
   "metadata": {},
   "source": [
    "We could use this to compare the recent performance (by +/-) of two players."
   ]
  },
  {
   "cell_type": "code",
   "execution_count": 8,
   "metadata": {},
   "outputs": [],
   "source": [
    "rw = bc.gameLogs(players, u'Russell Westbrook')\n",
    "sc = bc.gameLogs(players, u'Stephen Curry')\n",
    "\n",
    "recent_rw = rw.loc[rw.index >= '2016-01-01']\n",
    "recent_sc = sc.loc[rw.index >= '2016-01-01']"
   ]
  },
  {
   "cell_type": "code",
   "execution_count": 9,
   "metadata": {},
   "outputs": [
    {
     "data": {
      "text/plain": [
       "[<matplotlib.lines.Line2D at 0x7fa7f7ad5c50>]"
      ]
     },
     "execution_count": 9,
     "metadata": {},
     "output_type": "execute_result"
    },
    {
     "data": {
      "image/png": "[encoded data removed]",
      "text/plain": [
       "<matplotlib.figure.Figure at 0x7fa7f7ad5a90>"
      ]
     },
     "metadata": {},
     "output_type": "display_data"
    }
   ],
   "source": [
    "plt.plot(recent_rw[\"+/-\"],'-o')\n",
    "plt.plot(recent_sc[\"+/-\"],'-o')"
   ]
  }
 ],
 "metadata": {
  "name": "",
  "signature": "sha256:9b2e2fb4ed440392735a6ecdf2f25830120294b0e16ede087e05036feeda0cc6"
 },
 "nbformat": 4,
 "nbformat_minor": 0
}